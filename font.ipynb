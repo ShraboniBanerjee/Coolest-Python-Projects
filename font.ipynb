{
  "nbformat": 4,
  "nbformat_minor": 0,
  "metadata": {
    "colab": {
      "name": "font.ipynb",
      "provenance": [],
      "collapsed_sections": []
    },
    "kernelspec": {
      "name": "python3",
      "display_name": "Python 3"
    },
    "language_info": {
      "name": "python"
    }
  },
  "cells": [
    {
      "cell_type": "markdown",
      "source": [
        "Today lets create a font art using python"
      ],
      "metadata": {
        "id": "vUjGIR1zXiTm"
      }
    },
    {
      "cell_type": "code",
      "source": [
        "pip install pyfiglet\n"
      ],
      "metadata": {
        "colab": {
          "base_uri": "https://localhost:8080/"
        },
        "id": "0PeltaqyXw8T",
        "outputId": "7726507e-5644-41f9-8c9b-edf3f1f2b2ea"
      },
      "execution_count": 1,
      "outputs": [
        {
          "output_type": "stream",
          "name": "stdout",
          "text": [
            "Looking in indexes: https://pypi.org/simple, https://us-python.pkg.dev/colab-wheels/public/simple/\n",
            "Collecting pyfiglet\n",
            "  Downloading pyfiglet-0.8.post1-py2.py3-none-any.whl (865 kB)\n",
            "\u001b[K     |████████████████████████████████| 865 kB 5.1 MB/s \n",
            "\u001b[?25hInstalling collected packages: pyfiglet\n",
            "Successfully installed pyfiglet-0.8.post1\n"
          ]
        }
      ]
    },
    {
      "cell_type": "code",
      "source": [
        "import pyfiglet\n",
        "font = pyfiglet.figlet_format('Python is the best language ever created')\n",
        "print(font)"
      ],
      "metadata": {
        "colab": {
          "base_uri": "https://localhost:8080/"
        },
        "id": "FCTz_PjSX3lV",
        "outputId": "ce90d473-4627-4282-c678-a571df65366d"
      },
      "execution_count": 2,
      "outputs": [
        {
          "output_type": "stream",
          "name": "stdout",
          "text": [
            " ____        _   _                   _       _   _          \n",
            "|  _ \\ _   _| |_| |__   ___  _ __   (_)___  | |_| |__   ___ \n",
            "| |_) | | | | __| '_ \\ / _ \\| '_ \\  | / __| | __| '_ \\ / _ \\\n",
            "|  __/| |_| | |_| | | | (_) | | | | | \\__ \\ | |_| | | |  __/\n",
            "|_|    \\__, |\\__|_| |_|\\___/|_| |_| |_|___/  \\__|_| |_|\\___|\n",
            "       |___/                                                \n",
            " _               _     _                                          \n",
            "| |__   ___  ___| |_  | | __ _ _ __   __ _ _   _  __ _  __ _  ___ \n",
            "| '_ \\ / _ \\/ __| __| | |/ _` | '_ \\ / _` | | | |/ _` |/ _` |/ _ \\\n",
            "| |_) |  __/\\__ \\ |_  | | (_| | | | | (_| | |_| | (_| | (_| |  __/\n",
            "|_.__/ \\___||___/\\__| |_|\\__,_|_| |_|\\__, |\\__,_|\\__,_|\\__, |\\___|\n",
            "                                     |___/             |___/      \n",
            "                                           _           _ \n",
            "  _____   _____ _ __    ___ _ __ ___  __ _| |_ ___  __| |\n",
            " / _ \\ \\ / / _ \\ '__|  / __| '__/ _ \\/ _` | __/ _ \\/ _` |\n",
            "|  __/\\ V /  __/ |    | (__| | |  __/ (_| | ||  __/ (_| |\n",
            " \\___| \\_/ \\___|_|     \\___|_|  \\___|\\__,_|\\__\\___|\\__,_|\n",
            "                                                         \n",
            "\n"
          ]
        }
      ]
    }
  ]
}